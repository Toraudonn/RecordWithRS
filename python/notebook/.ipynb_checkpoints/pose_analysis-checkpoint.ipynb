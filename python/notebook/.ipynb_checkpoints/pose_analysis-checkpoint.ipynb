{
 "cells": [
  {
   "cell_type": "code",
   "execution_count": 1,
   "metadata": {},
   "outputs": [
    {
     "name": "stdout",
     "output_type": "stream",
     "text": [
      "/home/haruyaishikawa/dev/RecordWithRS/python/notebook\n"
     ]
    }
   ],
   "source": [
    "import os\n",
    "import sys\n",
    "import ipympl\n",
    "\n",
    "print(os.getcwd())\n",
    "sys.path.insert(0, os.path.join(os.getcwd(), '../'))"
   ]
  },
  {
   "cell_type": "code",
   "execution_count": 2,
   "metadata": {},
   "outputs": [],
   "source": [
    "import numpy as np\n",
    "from datetime import datetime as dt\n",
    "from utils import DataManagement"
   ]
  },
  {
   "cell_type": "code",
   "execution_count": 3,
   "metadata": {},
   "outputs": [],
   "source": [
    "# setup which datetime to get\n",
    "dm = DataManagement()\n",
    "after = dt(2018, 7, 23, 14, 0, 0)\n",
    "before = dt(2018, 7, 23, 14, 1, 0)\n",
    "datetimes = dm.get_datetimes_in(after, before)\n",
    "\n",
    "assert len(datetimes) == 1\n",
    "datetime = datetimes[0]"
   ]
  },
  {
   "cell_type": "code",
   "execution_count": 4,
   "metadata": {},
   "outputs": [],
   "source": [
    "data_path = dm.get_save_directory(datetime)\n",
    "data_path = os.path.join(data_path, 'pose')"
   ]
  },
  {
   "cell_type": "code",
   "execution_count": 5,
   "metadata": {},
   "outputs": [],
   "source": [
    "files = dm.natural_sort(os.listdir(data_path))  # sorted files"
   ]
  },
  {
   "cell_type": "markdown",
   "metadata": {},
   "source": [
    "Test for one pose"
   ]
  },
  {
   "cell_type": "code",
   "execution_count": 6,
   "metadata": {},
   "outputs": [],
   "source": [
    "fn = files[0]\n",
    "csv_path = os.path.join(data_path, fn)"
   ]
  },
  {
   "cell_type": "code",
   "execution_count": 7,
   "metadata": {},
   "outputs": [],
   "source": [
    "sys.path.insert(0, '../openpose')  # append path of openpose\n",
    "from entity import params, JointType"
   ]
  },
  {
   "cell_type": "code",
   "execution_count": 8,
   "metadata": {},
   "outputs": [
    {
     "name": "stdout",
     "output_type": "stream",
     "text": [
      "0 Nose\n",
      "1 Neck\n",
      "2 RightShoulder\n",
      "3 RightElbow\n",
      "4 RightHand\n",
      "5 LeftShoulder\n",
      "6 LeftElbow\n",
      "7 LeftHand\n",
      "8 RightWaist\n",
      "9 RightKnee\n",
      "10 RightFoot\n",
      "11 LeftWaist\n",
      "12 LeftKnee\n",
      "13 LeftFoot\n",
      "14 RightEye\n",
      "15 LeftEye\n",
      "16 RightEar\n",
      "17 LeftEar\n"
     ]
    }
   ],
   "source": [
    "# JointType\n",
    "for i, joint in enumerate(JointType):\n",
    "    print(i, joint.name)"
   ]
  },
  {
   "cell_type": "code",
   "execution_count": 9,
   "metadata": {},
   "outputs": [
    {
     "name": "stdout",
     "output_type": "stream",
     "text": [
      "7\n"
     ]
    }
   ],
   "source": [
    "print(JointType.LeftHand.value)"
   ]
  },
  {
   "cell_type": "code",
   "execution_count": 10,
   "metadata": {},
   "outputs": [],
   "source": [
    "pc = np.loadtxt(csv_path, delimiter=',')"
   ]
  },
  {
   "cell_type": "code",
   "execution_count": 22,
   "metadata": {},
   "outputs": [],
   "source": [
    "# Translation matrix\n",
    "P_matrix_filename = os.path.join('../static_data', 'T.csv')\n",
    "P = np.loadtxt(P_matrix_filename, delimiter=',')\n",
    "\n",
    "def convert2world(P, coord):\n",
    "    '''\n",
    "    Convert from Camera coordniate to World coordinate (according to P)\n",
    "    '''\n",
    "    _coord = np.concatenate([np.asarray(coord), [1.000]])\n",
    "    _P = np.array(P)\n",
    "    #FIXME: Remove this when P is fixed\n",
    "    rotate = np.array([[1,0,0,0], [0,-1,0,0],[0,0,-1,0],[0,0,0,1]])\n",
    "    n = rotate.dot(_coord)\n",
    "    return _P.dot(n)[:3]"
   ]
  },
  {
   "cell_type": "code",
   "execution_count": 23,
   "metadata": {},
   "outputs": [
    {
     "data": {
      "text/plain": [
       "array([[  38.07086214, -378.47186533, 1373.        ],\n",
       "       [  89.68161243, -353.54860496, 1431.        ],\n",
       "       [ -65.54345611, -423.51067145, 1637.        ],\n",
       "       [ -79.21372109, -251.01587226, 1833.        ],\n",
       "       [-101.37603471,  -21.02358586, 1922.        ],\n",
       "       [ 246.549112  , -346.56691175, 1520.        ],\n",
       "       [ 321.59863002, -172.89049185, 1695.        ],\n",
       "       [ 344.7301971 ,   19.58681657, 1913.        ],\n",
       "       [  16.72204627,  -76.24872365, 1929.        ],\n",
       "       [ -10.65526303,  223.12608184, 1477.        ],\n",
       "       [   0.        ,    0.        ,    0.        ],\n",
       "       [ 218.96410665,  -50.93701393, 1827.        ],\n",
       "       [  94.13122423,  244.39723232, 1502.        ],\n",
       "       [   0.        ,    0.        ,    0.        ],\n",
       "       [   8.78495223, -407.98908119, 1341.        ],\n",
       "       [  68.3199796 , -407.38059636, 1339.        ],\n",
       "       [ -16.79881046, -431.35033472, 1343.        ],\n",
       "       [ 128.02056413, -443.24688357, 1371.        ]])"
      ]
     },
     "execution_count": 23,
     "metadata": {},
     "output_type": "execute_result"
    }
   ],
   "source": [
    "pc"
   ]
  },
  {
   "cell_type": "code",
   "execution_count": 37,
   "metadata": {},
   "outputs": [
    {
     "name": "stdout",
     "output_type": "stream",
     "text": [
      "(3,)\n",
      "(3,)\n",
      "(3,)\n",
      "(3,)\n",
      "(3,)\n",
      "(3,)\n",
      "(3,)\n",
      "(3,)\n",
      "(3,)\n",
      "(3,)\n",
      "(3,)\n",
      "(3,)\n",
      "(3,)\n",
      "(3,)\n",
      "(3,)\n",
      "(3,)\n",
      "(3,)\n",
      "(3,)\n"
     ]
    }
   ],
   "source": [
    "rw_pc = np.zeros((18, 3))\n",
    "for i, p in enumerate(pc):\n",
    "    if (p == [0,0,0]).all():\n",
    "        rw_pc[i] = np.asarray([np.nan, np.nan, np.nan])\n",
    "    else:\n",
    "        rw_pc[i] = convert2world(P, p)"
   ]
  },
  {
   "cell_type": "code",
   "execution_count": 26,
   "metadata": {},
   "outputs": [
    {
     "data": {
      "text/plain": [
       "array([[-198.89947496, 1297.44930527,  860.36202793],\n",
       "       [-140.29692696, 1293.60482531,  801.74162412],\n",
       "       [-215.43122293, 1521.27464624,  673.18558209],\n",
       "       [-217.79637593, 1508.70554332,  407.37582818],\n",
       "       [-271.04985406, 1393.74749851,  189.37966287],\n",
       "       [  31.12153198, 1283.59613701,  736.4570339 ],\n",
       "       [ 107.19157716, 1226.23168328,  492.05057739],\n",
       "       [ 140.8672342 , 1198.05678247,  198.3876437 ],\n",
       "       [-143.38064543, 1397.37503997,  226.21870639],\n",
       "       [-364.05191911,  918.99401413,  392.85431172],\n",
       "       [          nan,           nan,           nan],\n",
       "       [  15.33749682, 1246.83010638,  303.57077846],\n",
       "       [-262.86513044,  879.80691963,  366.01889338],\n",
       "       [          nan,           nan,           nan],\n",
       "       [-228.15617462, 1311.81171065,  902.6657336 ],\n",
       "       [-172.22483389, 1288.88093934,  907.55651742],\n",
       "       [-246.24818708, 1339.83452787,  914.3279363 ],\n",
       "       [ -98.09020392, 1313.19077579,  908.65704605]])"
      ]
     },
     "execution_count": 26,
     "metadata": {},
     "output_type": "execute_result"
    }
   ],
   "source": [
    "rw_pc"
   ]
  },
  {
   "cell_type": "code",
   "execution_count": 27,
   "metadata": {},
   "outputs": [
    {
     "data": {
      "text/plain": [
       "array([[-198.89947496, -140.29692696, -215.43122293, -217.79637593,\n",
       "        -271.04985406,   31.12153198,  107.19157716,  140.8672342 ,\n",
       "        -143.38064543, -364.05191911,           nan,   15.33749682,\n",
       "        -262.86513044,           nan, -228.15617462, -172.22483389,\n",
       "        -246.24818708,  -98.09020392],\n",
       "       [1297.44930527, 1293.60482531, 1521.27464624, 1508.70554332,\n",
       "        1393.74749851, 1283.59613701, 1226.23168328, 1198.05678247,\n",
       "        1397.37503997,  918.99401413,           nan, 1246.83010638,\n",
       "         879.80691963,           nan, 1311.81171065, 1288.88093934,\n",
       "        1339.83452787, 1313.19077579],\n",
       "       [ 860.36202793,  801.74162412,  673.18558209,  407.37582818,\n",
       "         189.37966287,  736.4570339 ,  492.05057739,  198.3876437 ,\n",
       "         226.21870639,  392.85431172,           nan,  303.57077846,\n",
       "         366.01889338,           nan,  902.6657336 ,  907.55651742,\n",
       "         914.3279363 ,  908.65704605]])"
      ]
     },
     "execution_count": 27,
     "metadata": {},
     "output_type": "execute_result"
    }
   ],
   "source": [
    "roll_pc = np.rollaxis(rw_pc, 1)\n",
    "roll_pc"
   ]
  },
  {
   "cell_type": "code",
   "execution_count": 84,
   "metadata": {},
   "outputs": [],
   "source": [
    "import matplotlib as mpl\n",
    "import matplotlib.pyplot as plt\n",
    "from mpl_toolkits.mplot3d import Axes3D\n",
    "import matplotlib.image as mpimg"
   ]
  },
  {
   "cell_type": "code",
   "execution_count": 29,
   "metadata": {},
   "outputs": [
    {
     "name": "stdout",
     "output_type": "stream",
     "text": [
      "/mnt/extHDD/raw_data/20180723_1400/rgb/0.png\n"
     ]
    }
   ],
   "source": [
    "rgb_path = dm.get_rgb_path(datetime)\n",
    "rgb_image_path = os.path.join(rgb_path, '0.png')\n",
    "print(rgb_image_path)\n",
    "img = mpimg.imread(rgb_image_path)"
   ]
  },
  {
   "cell_type": "code",
   "execution_count": 30,
   "metadata": {},
   "outputs": [
    {
     "data": {
      "application/vnd.jupyter.widget-view+json": {
       "model_id": "",
       "version_major": 2,
       "version_minor": 0
      },
      "text/plain": [
       "FigureCanvasNbAgg()"
      ]
     },
     "metadata": {},
     "output_type": "display_data"
    }
   ],
   "source": [
    "%matplotlib widget\n",
    "\n",
    "fig = plt.figure()\n",
    "ax1 = fig.add_subplot(221, projection='3d')\n",
    "ax1.scatter(roll_pc[0], roll_pc[1], roll_pc[2])\n",
    "\n",
    "ax2 = fig.add_subplot(222)\n",
    "ax2.imshow(img)\n",
    "\n",
    "plt.show()"
   ]
  },
  {
   "cell_type": "markdown",
   "metadata": {},
   "source": [
    "### getting right hand location for all 1 minutes"
   ]
  },
  {
   "cell_type": "code",
   "execution_count": 65,
   "metadata": {},
   "outputs": [
    {
     "name": "stdout",
     "output_type": "stream",
     "text": [
      "file count:  813\n"
     ]
    }
   ],
   "source": [
    "del joint\n",
    "\n",
    "joint_val = JointType.Nose.value\n",
    "\n",
    "print(\"file count: \", len(files))\n",
    "joint = np.zeros((len(files), 3))\n",
    "for i, f in enumerate(files):\n",
    "    csv_path = os.path.join(data_path, f)\n",
    "    points = np.loadtxt(csv_path, delimiter=',')\n",
    "    point = points[joint_val]\n",
    "    if (point == [0,0,0]).all():\n",
    "        joint[i] = np.asarray([np.nan, np.nan, np.nan])\n",
    "    else:\n",
    "        joint[i] = convert2world(P, point)"
   ]
  },
  {
   "cell_type": "code",
   "execution_count": 66,
   "metadata": {},
   "outputs": [
    {
     "data": {
      "text/plain": [
       "(3, 813)"
      ]
     },
     "execution_count": 66,
     "metadata": {},
     "output_type": "execute_result"
    }
   ],
   "source": [
    "joint.shape\n",
    "roll_joint = np.rollaxis(joint, 1)\n",
    "roll_joint.shape"
   ]
  },
  {
   "cell_type": "code",
   "execution_count": 68,
   "metadata": {},
   "outputs": [
    {
     "data": {
      "application/vnd.jupyter.widget-view+json": {
       "model_id": "",
       "version_major": 2,
       "version_minor": 0
      },
      "text/plain": [
       "FigureCanvasNbAgg()"
      ]
     },
     "metadata": {},
     "output_type": "display_data"
    }
   ],
   "source": [
    "%matplotlib widget\n",
    "\n",
    "plt.subplot(2, 2, 1)\n",
    "plt.plot(roll_joint[0], roll_joint[1])\n",
    "plt.xlabel('x')\n",
    "plt.ylabel('y')\n",
    "plt.grid(True)\n",
    "plt.suptitle('Movement of object', fontsize=16)\n",
    "\n",
    "plt.subplot(2, 2, 2)\n",
    "plt.scatter(roll_joint[0], roll_joint[1])\n",
    "plt.xlabel(\"x\")\n",
    "plt.ylabel(\"y\")\n",
    "plt.grid(True)\n",
    "plt.show()"
   ]
  },
  {
   "cell_type": "code",
   "execution_count": 79,
   "metadata": {},
   "outputs": [],
   "source": [
    "xedges = [i for i in range(-500, 0, 10)]\n",
    "yedges = [i for i in range(800, 1400, 10)]\n",
    "\n",
    "x = roll_joint[0][~np.isnan(roll_joint[0])]\n",
    "y = roll_joint[1][~np.isnan(roll_joint[1])]"
   ]
  },
  {
   "cell_type": "code",
   "execution_count": 81,
   "metadata": {},
   "outputs": [],
   "source": [
    "H, xedges, yedges = np.histogram2d(x, y, bins=(xedges, yedges))\n",
    "H = H.T"
   ]
  },
  {
   "cell_type": "code",
   "execution_count": 82,
   "metadata": {},
   "outputs": [
    {
     "data": {
      "application/vnd.jupyter.widget-view+json": {
       "model_id": "",
       "version_major": 2,
       "version_minor": 0
      },
      "text/plain": [
       "FigureCanvasNbAgg()"
      ]
     },
     "metadata": {},
     "output_type": "display_data"
    },
    {
     "data": {
      "text/plain": [
       "<matplotlib.image.AxesImage at 0x7f66a5c52860>"
      ]
     },
     "execution_count": 82,
     "metadata": {},
     "output_type": "execute_result"
    }
   ],
   "source": [
    "%matplotlib widget\n",
    "\n",
    "fig = plt.figure()\n",
    "plt.imshow(H, interpolation='nearest', origin='low',\n",
    "    extent=[xedges[0], xedges[-1], yedges[0], yedges[-1]])"
   ]
  },
  {
   "cell_type": "code",
   "execution_count": 88,
   "metadata": {},
   "outputs": [
    {
     "data": {
      "application/vnd.jupyter.widget-view+json": {
       "model_id": "2a274f55935445edb4610cc60cfeac71",
       "version_major": 2,
       "version_minor": 0
      },
      "text/plain": [
       "FigureCanvasNbAgg()"
      ]
     },
     "metadata": {},
     "output_type": "display_data"
    }
   ],
   "source": [
    "%matplotlib widget\n",
    "\n",
    "# fig = plt.figure(figsize=(7, 3))\n",
    "# ax = fig.add_subplot(131, title='imshow: square bins')\n",
    "# plt.imshow(H, interpolation='nearest', origin='low',\n",
    "#            extent=[xedges[0], xedges[-1], yedges[0], yedges[-1]])\n",
    "\n",
    "# ax = fig.add_subplot(132, title='pcolormesh: actual edges',\n",
    "#                      aspect='equal')\n",
    "# X, Y = np.meshgrid(xedges, yedges)\n",
    "# ax.pcolormesh(X, Y, H)\n",
    "\n",
    "ax = fig.add_subplot(111, title='NonUniformImage: interpolated',\n",
    "                     aspect='equal', xlim=xedges[[0, -1]], ylim=yedges[[0, -1]])\n",
    "im = mpl.image.NonUniformImage(ax, interpolation='bilinear')\n",
    "xcenters = (xedges[:-1] + xedges[1:]) / 2\n",
    "ycenters = (yedges[:-1] + yedges[1:]) / 2\n",
    "im.set_data(xcenters, ycenters, H)\n",
    "ax.images.append(im)\n",
    "plt.show()"
   ]
  },
  {
   "cell_type": "code",
   "execution_count": null,
   "metadata": {},
   "outputs": [],
   "source": []
  }
 ],
 "metadata": {
  "kernelspec": {
   "display_name": "Python 3",
   "language": "python",
   "name": "python3"
  },
  "language_info": {
   "codemirror_mode": {
    "name": "ipython",
    "version": 3
   },
   "file_extension": ".py",
   "mimetype": "text/x-python",
   "name": "python",
   "nbconvert_exporter": "python",
   "pygments_lexer": "ipython3",
   "version": "3.5.5"
  }
 },
 "nbformat": 4,
 "nbformat_minor": 2
}
