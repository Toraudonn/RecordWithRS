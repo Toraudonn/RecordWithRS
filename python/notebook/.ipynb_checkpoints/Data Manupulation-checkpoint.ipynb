{
 "cells": [
  {
   "cell_type": "code",
   "execution_count": 1,
   "metadata": {},
   "outputs": [],
   "source": [
    "import os\n",
    "import sys"
   ]
  },
  {
   "cell_type": "code",
   "execution_count": 2,
   "metadata": {},
   "outputs": [
    {
     "name": "stdout",
     "output_type": "stream",
     "text": [
      "/home/haruyaishikawa/dev/RecordWithRS/python/notebook\n"
     ]
    }
   ],
   "source": [
    "print(os.getcwd())\n",
    "sys.path.insert(0, os.path.join(os.getcwd(), '../'))"
   ]
  },
  {
   "cell_type": "code",
   "execution_count": 3,
   "metadata": {},
   "outputs": [],
   "source": [
    "import numpy as np\n",
    "from datetime import datetime as dt\n",
    "from utils import DataManagement"
   ]
  },
  {
   "cell_type": "code",
   "execution_count": 4,
   "metadata": {},
   "outputs": [],
   "source": [
    "# setup which datetime to get\n",
    "dm = DataManagement()\n",
    "after = dt(2018, 7, 23, 14, 0, 0)\n",
    "before = dt(2018, 7, 23, 14, 1, 0)\n",
    "datetimes = dm.get_datetimes_in(after, before)\n",
    "\n",
    "assert len(datetimes) == 1\n",
    "datetime = datetimes[0]"
   ]
  },
  {
   "cell_type": "code",
   "execution_count": 5,
   "metadata": {},
   "outputs": [
    {
     "name": "stdout",
     "output_type": "stream",
     "text": [
      "['chair', 'cup', 'dining table', 'keyboard', 'laptop', 'person', 'traffic light']\n"
     ]
    }
   ],
   "source": [
    "data_path = dm.get_save_directory(datetime)\n",
    "data_path = os.path.join(data_path, 'objects')\n",
    "\n",
    "print(os.listdir(data_path))"
   ]
  },
  {
   "cell_type": "code",
   "execution_count": 6,
   "metadata": {},
   "outputs": [],
   "source": [
    "ob_name = 'keyboard'\n",
    "ob_path = os.path.join(data_path, ob_name)"
   ]
  },
  {
   "cell_type": "code",
   "execution_count": null,
   "metadata": {},
   "outputs": [],
   "source": [
    "files = os.listdir(ob_path)\n",
    "filename = files[0]\n",
    "csv_path = os.path.join(ob_path, filename)"
   ]
  }
 ],
 "metadata": {
  "kernelspec": {
   "display_name": "Python 3",
   "language": "python",
   "name": "python3"
  },
  "language_info": {
   "codemirror_mode": {
    "name": "ipython",
    "version": 3
   },
   "file_extension": ".py",
   "mimetype": "text/x-python",
   "name": "python",
   "nbconvert_exporter": "python",
   "pygments_lexer": "ipython3",
   "version": "3.5.5"
  }
 },
 "nbformat": 4,
 "nbformat_minor": 2
}
