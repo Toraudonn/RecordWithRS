{
 "cells": [
  {
   "cell_type": "code",
   "execution_count": 1,
   "metadata": {},
   "outputs": [],
   "source": [
    "import os\n",
    "import sys\n",
    "import ipympl"
   ]
  },
  {
   "cell_type": "code",
   "execution_count": 2,
   "metadata": {},
   "outputs": [
    {
     "name": "stdout",
     "output_type": "stream",
     "text": [
      "/home/haruyaishikawa/dev/RecordWithRS/python/notebook\n"
     ]
    }
   ],
   "source": [
    "print(os.getcwd())\n",
    "sys.path.insert(0, os.path.join(os.getcwd(), '../'))"
   ]
  },
  {
   "cell_type": "code",
   "execution_count": 3,
   "metadata": {},
   "outputs": [],
   "source": [
    "import numpy as np\n",
    "from datetime import datetime as dt\n",
    "from utils import DataManagement"
   ]
  },
  {
   "cell_type": "code",
   "execution_count": 4,
   "metadata": {},
   "outputs": [],
   "source": [
    "# setup which datetime to get\n",
    "dm = DataManagement()\n",
    "after = dt(2018, 7, 23, 14, 0, 0)\n",
    "before = dt(2018, 7, 23, 14, 1, 0)\n",
    "datetimes = dm.get_datetimes_in(after, before)\n",
    "\n",
    "assert len(datetimes) == 1\n",
    "datetime = datetimes[0]"
   ]
  },
  {
   "cell_type": "code",
   "execution_count": 5,
   "metadata": {},
   "outputs": [
    {
     "name": "stdout",
     "output_type": "stream",
     "text": [
      "['chair', 'cup', 'dining table', 'keyboard', 'laptop', 'person', 'traffic light']\n"
     ]
    }
   ],
   "source": [
    "data_path = dm.get_save_directory(datetime)\n",
    "data_path = os.path.join(data_path, 'objects')\n",
    "\n",
    "print(os.listdir(data_path))"
   ]
  },
  {
   "cell_type": "code",
   "execution_count": 6,
   "metadata": {},
   "outputs": [],
   "source": [
    "ob_name = 'keyboard'\n",
    "ob_path = os.path.join(data_path, ob_name)"
   ]
  },
  {
   "cell_type": "code",
   "execution_count": 18,
   "metadata": {},
   "outputs": [
    {
     "name": "stdout",
     "output_type": "stream",
     "text": [
      "611\n"
     ]
    }
   ],
   "source": [
    "files = os.listdir(ob_path)\n",
    "print(len(files))\n",
    "filename = files[0]\n",
    "csv_path = os.path.join(ob_path, filename)"
   ]
  },
  {
   "cell_type": "code",
   "execution_count": 8,
   "metadata": {},
   "outputs": [],
   "source": [
    "np_pc = np.loadtxt(csv_path, delimiter=',')"
   ]
  },
  {
   "cell_type": "code",
   "execution_count": 25,
   "metadata": {},
   "outputs": [
    {
     "name": "stdout",
     "output_type": "stream",
     "text": [
      "(15569, 3)\n"
     ]
    },
    {
     "data": {
      "text/plain": [
       "array([-617.57950116, 1394.64339446, 1286.23469715])"
      ]
     },
     "execution_count": 25,
     "metadata": {},
     "output_type": "execute_result"
    }
   ],
   "source": [
    "print(np_pc.shape)\n",
    "np_pc.mean(0)"
   ]
  },
  {
   "cell_type": "code",
   "execution_count": 10,
   "metadata": {},
   "outputs": [],
   "source": [
    "pc = np.rollaxis(np_pc, 1)"
   ]
  },
  {
   "cell_type": "code",
   "execution_count": 11,
   "metadata": {},
   "outputs": [],
   "source": [
    "import matplotlib.pyplot as plt\n",
    "from mpl_toolkits.mplot3d import Axes3D"
   ]
  },
  {
   "cell_type": "code",
   "execution_count": 17,
   "metadata": {},
   "outputs": [
    {
     "data": {
      "application/vnd.jupyter.widget-view+json": {
       "model_id": "",
       "version_major": 2,
       "version_minor": 0
      },
      "text/plain": [
       "FigureCanvasNbAgg()"
      ]
     },
     "metadata": {},
     "output_type": "display_data"
    }
   ],
   "source": [
    "%matplotlib widget\n",
    "\n",
    "fig = plt.figure()\n",
    "ax = fig.add_subplot(111, projection='3d')\n",
    "ax.scatter(pc[0], pc[1], pc[2])\n",
    "\n",
    "plt.show()"
   ]
  },
  {
   "cell_type": "code",
   "execution_count": 14,
   "metadata": {},
   "outputs": [
    {
     "data": {
      "application/vnd.jupyter.widget-view+json": {
       "model_id": "",
       "version_major": 2,
       "version_minor": 0
      },
      "text/plain": [
       "FigureCanvasNbAgg()"
      ]
     },
     "metadata": {},
     "output_type": "display_data"
    }
   ],
   "source": [
    "%matplotlib widget\n",
    "\n",
    "plt.scatter(pc[0], pc[1])\n",
    "plt.xlabel(\"x\")\n",
    "plt.ylabel(\"y\")\n",
    "plt.show()"
   ]
  },
  {
   "cell_type": "code",
   "execution_count": 16,
   "metadata": {},
   "outputs": [
    {
     "data": {
      "text/plain": [
       "array([[ 9.510000e-01,  2.440000e-01, -2.690000e-01, -6.967890e+02],\n",
       "       [-3.580000e-01,  7.580000e-01, -5.780000e-01,  2.306030e+02],\n",
       "       [ 6.200000e-02,  6.350000e-01,  7.930000e-01,  1.706461e+03],\n",
       "       [ 0.000000e+00,  0.000000e+00,  0.000000e+00,  1.000000e+00]])"
      ]
     },
     "execution_count": 16,
     "metadata": {},
     "output_type": "execute_result"
    }
   ],
   "source": [
    "# Translation matrix\n",
    "P_matrix_filename = os.path.join('../static_data', 'T.csv')\n",
    "P = np.loadtxt(P_matrix_filename, delimiter=',')\n",
    "P"
   ]
  },
  {
   "cell_type": "code",
   "execution_count": 38,
   "metadata": {},
   "outputs": [],
   "source": [
    "def convert2world(P, coord):\n",
    "    '''\n",
    "    Convert from Camera coordniate to World coordinate (according to P)\n",
    "    '''\n",
    "    _coord = np.concatenate([np.asarray(coord), [1.000]])\n",
    "    _P = np.array(P)\n",
    "    #FIXME: Remove this when P is fixed\n",
    "    rotate = np.array([[1,0,0,0], [0,-1,0,0],[0,0,-1,0],[0,0,0,1]])\n",
    "    n = rotate.dot(_coord)\n",
    "    return _P.dot(n)[:3]"
   ]
  },
  {
   "cell_type": "code",
   "execution_count": 27,
   "metadata": {},
   "outputs": [],
   "source": [
    "ordered_files = dm.natural_sort(files)\n",
    "mean_of_points = []\n",
    "for fn in files:\n",
    "    csv_path = os.path.join(ob_path, fn)\n",
    "    points = np.loadtxt(csv_path, delimiter=',')\n",
    "    mean = points.mean(0)\n",
    "    real_word = convert2world(P, mean)\n",
    "    mean_of_points.append(real_world)"
   ]
  },
  {
   "cell_type": "code",
   "execution_count": 28,
   "metadata": {},
   "outputs": [
    {
     "data": {
      "text/plain": [
       "611"
      ]
     },
     "execution_count": 28,
     "metadata": {},
     "output_type": "execute_result"
    }
   ],
   "source": [
    "len(mean_of_points)"
   ]
  },
  {
   "cell_type": "code",
   "execution_count": 31,
   "metadata": {},
   "outputs": [],
   "source": [
    "mp = np.asarray(mean_of_points)"
   ]
  },
  {
   "cell_type": "code",
   "execution_count": 35,
   "metadata": {},
   "outputs": [
    {
     "data": {
      "text/plain": [
       "array([[-617.57950116, 1394.64339446, 1286.23469715],\n",
       "       [-616.76165851, 1396.21640152, 1286.67700576],\n",
       "       [-617.13176984, 1395.58124037, 1286.46563022],\n",
       "       ...,\n",
       "       [-614.43700587, 1393.73902975, 1285.71933569],\n",
       "       [-617.09249038, 1395.14245839, 1285.61022757],\n",
       "       [-617.34743803, 1393.94448323, 1286.0714607 ]])"
      ]
     },
     "execution_count": 35,
     "metadata": {},
     "output_type": "execute_result"
    }
   ],
   "source": []
  },
  {
   "cell_type": "code",
   "execution_count": 33,
   "metadata": {},
   "outputs": [
    {
     "data": {
      "application/vnd.jupyter.widget-view+json": {
       "model_id": "852658490ff344389b6e56539dd7954e",
       "version_major": 2,
       "version_minor": 0
      },
      "text/plain": [
       "FigureCanvasNbAgg()"
      ]
     },
     "metadata": {},
     "output_type": "display_data"
    }
   ],
   "source": [
    "%matplotlib widget\n",
    "\n",
    "fig = plt.figure()\n",
    "ax = fig.add_subplot(111, projection='3d')\n",
    "ax.scatter(mp[0], mp[1], mp[2])\n",
    "\n",
    "plt.show()"
   ]
  },
  {
   "cell_type": "code",
   "execution_count": null,
   "metadata": {},
   "outputs": [],
   "source": []
  }
 ],
 "metadata": {
  "kernelspec": {
   "display_name": "Python 3",
   "language": "python",
   "name": "python3"
  },
  "language_info": {
   "codemirror_mode": {
    "name": "ipython",
    "version": 3
   },
   "file_extension": ".py",
   "mimetype": "text/x-python",
   "name": "python",
   "nbconvert_exporter": "python",
   "pygments_lexer": "ipython3",
   "version": "3.5.5"
  }
 },
 "nbformat": 4,
 "nbformat_minor": 2
}
